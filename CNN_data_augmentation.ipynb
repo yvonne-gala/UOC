{
 "cells": [
  {
   "cell_type": "markdown",
   "metadata": {},
   "source": [
    "# Load Libraries"
   ]
  },
  {
   "cell_type": "code",
   "execution_count": 1,
   "metadata": {},
   "outputs": [
    {
     "name": "stderr",
     "output_type": "stream",
     "text": [
      "Using TensorFlow backend.\n"
     ]
    }
   ],
   "source": [
    "# numpy and pandas\n",
    "import numpy as np\n",
    "import pandas as pd\n",
    "import math\n",
    "\n",
    "# Generic\n",
    "import os\n",
    "import matplotlib.pyplot as plt\n",
    "\n",
    "# Images\n",
    "from PIL import Image\n",
    "from skimage.transform import resize\n",
    "import talos as ta\n",
    "\n",
    "# Sklearn\n",
    "from sklearn.model_selection import train_test_split\n",
    "from sklearn.metrics import roc_auc_score, confusion_matrix, plot_confusion_matrix\n",
    "\n",
    "# Tensorflow\n",
    "import tensorflow as tf\n",
    "\n",
    "# Keras\n",
    "from keras.layers import Input, Dense, Dropout\n",
    "from keras.utils import print_summary\n",
    "from keras.models import Model, load_model\n",
    "from keras.optimizers import Adam\n",
    "from keras.callbacks import ModelCheckpoint, TensorBoard, EarlyStopping\n",
    "from keras.applications.densenet import DenseNet121\n",
    "from keras.applications.densenet import preprocess_input\n",
    "from keras.preprocessing import image\n",
    "from keras.preprocessing.image import ImageDataGenerator\n",
    "from keras import backend as K"
   ]
  },
  {
   "cell_type": "markdown",
   "metadata": {},
   "source": [
    "# Load Classes and Functions"
   ]
  },
  {
   "cell_type": "markdown",
   "metadata": {},
   "source": [
    "### CheXnet Functios"
   ]
  },
  {
   "cell_type": "code",
   "execution_count": 3,
   "metadata": {},
   "outputs": [],
   "source": [
    "# chexNet weights\n",
    "chexnet_weights = '/home/ygala/TFM_UOC/scripts/chexnet/best_weights.h5'\n",
    "\n",
    "def chexnet_preprocess_input(value):\n",
    "    return preprocess_input(value)\n",
    "\n",
    "\n",
    "def get_chexnet_model():\n",
    "    input_shape = (224, 224, 3)\n",
    "    img_input = Input(shape=input_shape)\n",
    "    base_weights = 'imagenet'\n",
    "\n",
    "    # create the base pre-trained model\n",
    "    base_model = DenseNet121(\n",
    "        include_top=False,\n",
    "        input_tensor=img_input,\n",
    "        input_shape=input_shape,\n",
    "        weights=base_weights,\n",
    "        pooling='avg'\n",
    "    )\n",
    "\n",
    "    x = base_model.output\n",
    "    # add a logistic layer -- let's say we have 14 classes\n",
    "    predictions = Dense(\n",
    "        14,\n",
    "        activation='sigmoid',\n",
    "        name='predictions')(x)\n",
    "\n",
    "    # this is the model we will use\n",
    "    model = Model(\n",
    "        inputs=img_input,\n",
    "        outputs=predictions,\n",
    "    )\n",
    "\n",
    "    # load chexnet weights\n",
    "    model.load_weights(chexnet_weights)\n",
    "\n",
    "    # return model\n",
    "    return base_model, model"
   ]
  },
  {
   "cell_type": "markdown",
   "metadata": {},
   "source": [
    "### Auxiliary Functions"
   ]
  },
  {
   "cell_type": "code",
   "execution_count": 4,
   "metadata": {},
   "outputs": [],
   "source": [
    "def get_class_weight(csv_file_path, target_class):\n",
    "    df = pd.read_csv(csv_file_path, sep=';')\n",
    "    total_counts = df.shape[0]\n",
    "    class_weight = []\n",
    "\n",
    "    ratio_pos = df.loc[(df[target_class] == 'Y')].shape[0] / total_counts\n",
    "    ratio_neg = df.loc[(df[target_class] == 'N')].shape[0] / total_counts\n",
    "    class_weight = np.array((ratio_pos, ratio_neg))\n",
    "        \n",
    "    return class_weight\n",
    "\n",
    "def auc(y_true, y_pred):\n",
    "    auc = tf.metrics.auc(y_true, y_pred)[1]\n",
    "    K.get_session().run(tf.local_variables_initializer())\n",
    "    return auc\n",
    "\n",
    "\n",
    "def auroc(y_true, y_pred):\n",
    "    return tf.py_func(roc_auc_score, (y_true, y_pred), tf.double)\n",
    "\n",
    "def print_confidence_intervals(statistics):\n",
    "    df = pd.DataFrame(columns=[\"Mean AUC (CI 5%-95%)\"])\n",
    "    mean = statistics.mean()\n",
    "    max_ = np.quantile(statistics, .95)\n",
    "    min_ = np.quantile(statistics, .05)\n",
    "    df.loc[\"Exitus\"] = [\"%.2f (%.2f-%.2f)\" % (mean, min_, max_)]\n",
    "    return df\n",
    "\n",
    "\n",
    "def get_model(learning_rate):\n",
    "    # get base model, model\n",
    "    base_model, chexnet_model = get_chexnet_model()\n",
    "\n",
    "    x = base_model.output\n",
    "    \n",
    "    # Regularization layer\n",
    "    x = BatchNormalization()(x)\n",
    "    \n",
    "    # Dense layer\n",
    "    x = Dense(128, \n",
    "              activation='relu',\n",
    "              kernel_regularizer=tf.keras.regularizers.l1_l2(0.5, 0.0001))(x)\n",
    "    \n",
    "    # Regularization layer\n",
    "    x = BatchNormalization()(x)\n",
    "\n",
    "    \n",
    "    # add a logistic layer -- let's say we have 6 classes\n",
    "    predictions = Dense(\n",
    "        1,\n",
    "        activation='sigmoid')(x)\n",
    "\n",
    "    # this is the model we will use\n",
    "    model = Model(\n",
    "        inputs=base_model.input,\n",
    "        outputs=predictions,\n",
    "    )\n",
    "\n",
    "    # first: train only the top layers (which were randomly initialized)\n",
    "\n",
    "    for layer in base_model.layers:\n",
    "        layer.trainable = False\n",
    "\n",
    "    # initiate an Adam optimizer\n",
    "    opt = Adam(\n",
    "        lr=learning_rate,\n",
    "        beta_1=0.9,\n",
    "        beta_2=0.999,\n",
    "        decay=0.0,\n",
    "        amsgrad=False\n",
    "    )\n",
    "\n",
    "    # Let's train the model using Adam\n",
    "    model.compile(\n",
    "        loss='binary_crossentropy',\n",
    "        optimizer=opt,\n",
    "        metrics=[metrics.BinaryAccuracy(name = \"acc\"),\n",
    "                metrics.AUC(name = \"auc\")])\n",
    "\n",
    "    return base_model, model\n",
    "\n",
    "\n",
    "class print_learning_rate(Callback):\n",
    "    def on_epoch_begin(self, epoch, logs=None):\n",
    "        lr = self.model.optimizer.lr\n",
    "        print(f'Learning rate = {K.eval(lr):.5f}')\n",
    "\n"
   ]
  },
  {
   "cell_type": "markdown",
   "metadata": {},
   "source": [
    "### Print Functions"
   ]
  },
  {
   "cell_type": "code",
   "execution_count": null,
   "metadata": {},
   "outputs": [],
   "source": [
    "def grafica_entrenamiento(tr_auc, val_auc, tr_loss, val_loss, best_i,\n",
    "                          figsize=(10,5), path_results = None):\n",
    "    plt.figure(figsize=figsize)\n",
    "    ax = plt.subplot(1,2,1)\n",
    "    plt.plot(1+np.arange(len(tr_loss)), np.array(tr_loss))\n",
    "    plt.plot(1+np.arange(len(val_loss)), np.array(val_loss))\n",
    "    plt.plot(1+best_i, val_loss[best_i], 'or')\n",
    "    plt.title('loss del modelo', fontsize=18)\n",
    "    plt.ylabel('loss', fontsize=12)\n",
    "    plt.xlabel('época', fontsize=18)        \n",
    "    plt.legend(['entrenamiento', 'validación'], loc='upper left')\n",
    "    ax.xaxis.set_major_locator(MaxNLocator(integer=True))\n",
    "    \n",
    "    plt.subplot(1,2,2)\n",
    "    \n",
    "    plt.plot(1+np.arange(len(tr_auc)),  np.array(tr_auc))\n",
    "    plt.plot(1+np.arange(len(val_auc)), np.array(val_auc))\n",
    "    plt.plot(1+best_i, val_auc[best_i], 'or')\n",
    "    plt.title('AUC', fontsize=18)\n",
    "    plt.ylabel('AUC', fontsize=12)\n",
    "    plt.xlabel('época', fontsize=18)    \n",
    "    plt.legend(['entrenamiento', 'validación'], loc='upper left')\n",
    "    ax.xaxis.set_major_locator(MaxNLocator(integer=True))\n",
    "    if (path_results != None):\n",
    "        plt.savefig(os.path.join(path_results, 'auc_loss.png'))\n",
    "    plt.show()\n",
    "    \n",
    "class TrainingPlot(Callback):\n",
    "    \n",
    "    # This function is called when the training begins\n",
    "    def on_train_begin(self, logs={}):\n",
    "        # Initialize the lists for holding the logs, losses and accuracies\n",
    "        self.losses = []\n",
    "        self.auc = []\n",
    "        self.val_losses = []\n",
    "        self.val_auc = []\n",
    "        self.logs = []\n",
    "    \n",
    "    # This function is called at the end of each epoch\n",
    "    def on_epoch_end(self, epoch, logs={}):       \n",
    "       \n",
    "        \n",
    "        # Before plotting ensure at least 10 epochs have passed\n",
    "        if epoch > 20:\n",
    "             # Append the logs, losses and accuracies to the lists\n",
    "            self.logs.append(logs)        \n",
    "            self.auc.append(logs.get('auc'))        \n",
    "            self.val_auc.append(logs.get('val_auc'))\n",
    "            self.losses.append(logs.get('loss'))\n",
    "            self.val_losses.append(logs.get('val_loss'))\n",
    "            best_i = np.argmax(self.val_auc)\n",
    "            grafica_entrenamiento(self.auc, self.val_auc, self.losses, self.val_losses, best_i)"
   ]
  },
  {
   "cell_type": "markdown",
   "metadata": {},
   "source": [
    "### Talos functions"
   ]
  },
  {
   "cell_type": "code",
   "execution_count": 5,
   "metadata": {},
   "outputs": [],
   "source": [
    "def get_model_talos(X_train, y_train, X_val, y_val, params):\n",
    "    # get base model, model\n",
    "    base_model, chexnet_model = get_chexnet_model()\n",
    "\n",
    "    x = base_model.output\n",
    "    # one more layer (relu)\n",
    "    x = Dense(params['first_neuron'], activation='relu')(x)\n",
    "\n",
    "    # Dropout layer\n",
    "\n",
    "    predictions = Dense(\n",
    "        1,\n",
    "        activation='sigmoid')(x)\n",
    "\n",
    "    # this is the model we will use\n",
    "    model = Model(\n",
    "        inputs=base_model.input,\n",
    "        outputs=predictions,\n",
    "    )\n",
    "\n",
    "    # first: train only the top layers (which were randomly initialized)\n",
    "    # i.e. freeze all base_model layers\n",
    "    for layer in base_model.layers:\n",
    "        layer.trainable = False\n",
    "\n",
    "    # initiate an Adam optimizer\n",
    "    opt = Adam(\n",
    "        lr=0.005,\n",
    "        beta_1=0.9,\n",
    "        beta_2=0.999,\n",
    "        decay=0.00001,\n",
    "        amsgrad=False\n",
    "    )\n",
    "\n",
    "    # Let's train the model using Adam\n",
    "    model.compile(\n",
    "        loss='binary_crossentropy',\n",
    "        optimizer=opt,\n",
    "        metrics=[auc]\n",
    "        #metrics=['accuracy']\n",
    "        )\n",
    "    \n",
    "    \n",
    "    # This callback writes logs for TensorBoard\n",
    "    tensorboard = TensorBoard(\n",
    "        log_dir='./Graph', \n",
    "        histogram_freq=0,  \n",
    "        write_graph=True\n",
    "    )\n",
    "\n",
    "    my_callbacks = EarlyStopping(monitor='val_auc', patience=300, verbose=1, mode='max')\n",
    "\n",
    "    callbacks_list = [tensorboard, my_callbacks]\n",
    "\n",
    "\n",
    "    \n",
    "    batch_size = params['batch_size']\n",
    "    out = model.fit_generator(datagen.flow(X_train, y_train, batch_size=batch_size),\n",
    "                     validation_data=datagen.flow(X_val, y_val),\n",
    "                     steps_per_epoch=len(X_train) / batch_size, \n",
    "                     epochs=params['epochs'],\n",
    "                     class_weight=class_weight_train,\n",
    "                     callbacks = callbacks_list,       \n",
    "                     verbose=0)\n",
    "\n",
    "\n",
    "    return out, model\n",
    "\n"
   ]
  },
  {
   "cell_type": "markdown",
   "metadata": {},
   "source": [
    "# Global Parameters"
   ]
  },
  {
   "cell_type": "code",
   "execution_count": 8,
   "metadata": {},
   "outputs": [],
   "source": [
    "perc_split = [0.7, 0.15, 0.15]\n",
    "input_shape = (224, 224, 3)\n",
    "seed = 143"
   ]
  },
  {
   "cell_type": "markdown",
   "metadata": {},
   "source": [
    "# Load Data"
   ]
  },
  {
   "cell_type": "code",
   "execution_count": 9,
   "metadata": {},
   "outputs": [],
   "source": [
    "path_root = '/home/ygala/TFM_UOC/'\n",
    "path_images = os.path.join(path_root, 'data', 'covid_images')\n"
   ]
  },
  {
   "cell_type": "markdown",
   "metadata": {},
   "source": [
    "## Read data"
   ]
  },
  {
   "cell_type": "code",
   "execution_count": 10,
   "metadata": {
    "scrolled": true
   },
   "outputs": [
    {
     "data": {
      "text/html": [
       "<div>\n",
       "<style scoped>\n",
       "    .dataframe tbody tr th:only-of-type {\n",
       "        vertical-align: middle;\n",
       "    }\n",
       "\n",
       "    .dataframe tbody tr th {\n",
       "        vertical-align: top;\n",
       "    }\n",
       "\n",
       "    .dataframe thead th {\n",
       "        text-align: right;\n",
       "    }\n",
       "</style>\n",
       "<table border=\"1\" class=\"dataframe\">\n",
       "  <thead>\n",
       "    <tr style=\"text-align: right;\">\n",
       "      <th></th>\n",
       "      <th>patientid</th>\n",
       "      <th>index</th>\n",
       "      <th>SpecificCharacterSet</th>\n",
       "      <th>SOPClassUID</th>\n",
       "      <th>SOPInstanceUID</th>\n",
       "      <th>StudyDate</th>\n",
       "      <th>StudyTime</th>\n",
       "      <th>AccessionNumber</th>\n",
       "      <th>Modality</th>\n",
       "      <th>ConversionType</th>\n",
       "      <th>...</th>\n",
       "      <th>PixelSpacing</th>\n",
       "      <th>BitsAllocated</th>\n",
       "      <th>BitsStored</th>\n",
       "      <th>HighBit</th>\n",
       "      <th>PixelRepresentation</th>\n",
       "      <th>LossyImageCompression</th>\n",
       "      <th>LossyImageCompressionMethod</th>\n",
       "      <th>PixelData</th>\n",
       "      <th>filename</th>\n",
       "      <th>survival</th>\n",
       "    </tr>\n",
       "  </thead>\n",
       "  <tbody>\n",
       "    <tr>\n",
       "      <th>0</th>\n",
       "      <td>1</td>\n",
       "      <td>362424</td>\n",
       "      <td>ISO_IR 100</td>\n",
       "      <td>Computed Radiography Image Storage</td>\n",
       "      <td>1.3.12.2.1107.5.3.56.2693.11.202004071536250109</td>\n",
       "      <td>20200407</td>\n",
       "      <td>153625.000</td>\n",
       "      <td>ACC00009757</td>\n",
       "      <td>CR</td>\n",
       "      <td>NaN</td>\n",
       "      <td>...</td>\n",
       "      <td>NaN</td>\n",
       "      <td>16</td>\n",
       "      <td>12</td>\n",
       "      <td>11</td>\n",
       "      <td>0</td>\n",
       "      <td>0</td>\n",
       "      <td>NaN</td>\n",
       "      <td>Array of 5549966 elements</td>\n",
       "      <td>362424.png</td>\n",
       "      <td>N</td>\n",
       "    </tr>\n",
       "    <tr>\n",
       "      <th>1</th>\n",
       "      <td>13</td>\n",
       "      <td>161101</td>\n",
       "      <td>ISO_IR 100</td>\n",
       "      <td>Computed Radiography Image Storage</td>\n",
       "      <td>1.3.12.2.1107.5.3.56.2693.11.202003210459280593</td>\n",
       "      <td>20200321</td>\n",
       "      <td>45928.000</td>\n",
       "      <td>ACC00005107</td>\n",
       "      <td>CR</td>\n",
       "      <td>NaN</td>\n",
       "      <td>...</td>\n",
       "      <td>NaN</td>\n",
       "      <td>16</td>\n",
       "      <td>12</td>\n",
       "      <td>11</td>\n",
       "      <td>0</td>\n",
       "      <td>0</td>\n",
       "      <td>NaN</td>\n",
       "      <td>Array of 6069570 elements</td>\n",
       "      <td>161101.png</td>\n",
       "      <td>Y</td>\n",
       "    </tr>\n",
       "    <tr>\n",
       "      <th>2</th>\n",
       "      <td>13</td>\n",
       "      <td>161102</td>\n",
       "      <td>ISO_IR 100</td>\n",
       "      <td>Computed Radiography Image Storage</td>\n",
       "      <td>1.3.12.2.1107.5.3.56.2693.11.202003260728100281</td>\n",
       "      <td>20200326</td>\n",
       "      <td>72810.000</td>\n",
       "      <td>ACC00005301</td>\n",
       "      <td>CR</td>\n",
       "      <td>NaN</td>\n",
       "      <td>...</td>\n",
       "      <td>NaN</td>\n",
       "      <td>16</td>\n",
       "      <td>12</td>\n",
       "      <td>11</td>\n",
       "      <td>0</td>\n",
       "      <td>0</td>\n",
       "      <td>NaN</td>\n",
       "      <td>Array of 5683394 elements</td>\n",
       "      <td>161102.png</td>\n",
       "      <td>Y</td>\n",
       "    </tr>\n",
       "    <tr>\n",
       "      <th>3</th>\n",
       "      <td>13</td>\n",
       "      <td>161103</td>\n",
       "      <td>ISO_IR 100</td>\n",
       "      <td>Computed Radiography Image Storage</td>\n",
       "      <td>1.3.12.2.1107.5.3.56.2693.11.202003220726220593</td>\n",
       "      <td>20200322</td>\n",
       "      <td>72622.000</td>\n",
       "      <td>ACC00005441</td>\n",
       "      <td>CR</td>\n",
       "      <td>NaN</td>\n",
       "      <td>...</td>\n",
       "      <td>NaN</td>\n",
       "      <td>16</td>\n",
       "      <td>12</td>\n",
       "      <td>11</td>\n",
       "      <td>0</td>\n",
       "      <td>0</td>\n",
       "      <td>NaN</td>\n",
       "      <td>Array of 5989198 elements</td>\n",
       "      <td>161103.png</td>\n",
       "      <td>Y</td>\n",
       "    </tr>\n",
       "    <tr>\n",
       "      <th>4</th>\n",
       "      <td>13</td>\n",
       "      <td>161104</td>\n",
       "      <td>ISO_IR 100</td>\n",
       "      <td>Computed Radiography Image Storage</td>\n",
       "      <td>1.3.12.2.1107.5.3.56.2693.11.202003221418280437</td>\n",
       "      <td>20200322</td>\n",
       "      <td>141828.000</td>\n",
       "      <td>ACC00005552</td>\n",
       "      <td>CR</td>\n",
       "      <td>NaN</td>\n",
       "      <td>...</td>\n",
       "      <td>NaN</td>\n",
       "      <td>16</td>\n",
       "      <td>12</td>\n",
       "      <td>11</td>\n",
       "      <td>0</td>\n",
       "      <td>0</td>\n",
       "      <td>NaN</td>\n",
       "      <td>Array of 5990704 elements</td>\n",
       "      <td>161104.png</td>\n",
       "      <td>Y</td>\n",
       "    </tr>\n",
       "    <tr>\n",
       "      <th>...</th>\n",
       "      <td>...</td>\n",
       "      <td>...</td>\n",
       "      <td>...</td>\n",
       "      <td>...</td>\n",
       "      <td>...</td>\n",
       "      <td>...</td>\n",
       "      <td>...</td>\n",
       "      <td>...</td>\n",
       "      <td>...</td>\n",
       "      <td>...</td>\n",
       "      <td>...</td>\n",
       "      <td>...</td>\n",
       "      <td>...</td>\n",
       "      <td>...</td>\n",
       "      <td>...</td>\n",
       "      <td>...</td>\n",
       "      <td>...</td>\n",
       "      <td>...</td>\n",
       "      <td>...</td>\n",
       "      <td>...</td>\n",
       "      <td>...</td>\n",
       "    </tr>\n",
       "    <tr>\n",
       "      <th>3480</th>\n",
       "      <td>2278</td>\n",
       "      <td>460652</td>\n",
       "      <td>ISO_IR 100</td>\n",
       "      <td>Digital X-Ray Image Storage - For Presentation</td>\n",
       "      <td>1.3.46.670589.30.36.0.1.18774111139.1586556014...</td>\n",
       "      <td>20200410</td>\n",
       "      <td>225716.391</td>\n",
       "      <td>ACC00008725</td>\n",
       "      <td>DX</td>\n",
       "      <td>NaN</td>\n",
       "      <td>...</td>\n",
       "      <td>NaN</td>\n",
       "      <td>16</td>\n",
       "      <td>12</td>\n",
       "      <td>11</td>\n",
       "      <td>0</td>\n",
       "      <td>0</td>\n",
       "      <td>NaN</td>\n",
       "      <td>Array of 5674014 elements</td>\n",
       "      <td>460652.png</td>\n",
       "      <td>Y</td>\n",
       "    </tr>\n",
       "    <tr>\n",
       "      <th>3481</th>\n",
       "      <td>2280</td>\n",
       "      <td>461518</td>\n",
       "      <td>NaN</td>\n",
       "      <td>Computed Radiography Image Storage</td>\n",
       "      <td>1.3.51.0.7.11525005549.51456.28486.35726.61854...</td>\n",
       "      <td>20200415</td>\n",
       "      <td>103742.000</td>\n",
       "      <td>ACC00010093</td>\n",
       "      <td>CR</td>\n",
       "      <td>NaN</td>\n",
       "      <td>...</td>\n",
       "      <td>[0.15, 0.15]</td>\n",
       "      <td>16</td>\n",
       "      <td>12</td>\n",
       "      <td>11</td>\n",
       "      <td>0</td>\n",
       "      <td>0</td>\n",
       "      <td>NaN</td>\n",
       "      <td>Array of 5694582 elements</td>\n",
       "      <td>461518.png</td>\n",
       "      <td>Y</td>\n",
       "    </tr>\n",
       "    <tr>\n",
       "      <th>3482</th>\n",
       "      <td>2286</td>\n",
       "      <td>466280</td>\n",
       "      <td>ISO_IR 100</td>\n",
       "      <td>Computed Radiography Image Storage</td>\n",
       "      <td>1.3.51.0.7.3142572467.2116.61512.35199.56756.9...</td>\n",
       "      <td>20200414</td>\n",
       "      <td>181443.000</td>\n",
       "      <td>ACC00009959</td>\n",
       "      <td>CR</td>\n",
       "      <td>NaN</td>\n",
       "      <td>...</td>\n",
       "      <td>[0.15, 0.15]</td>\n",
       "      <td>16</td>\n",
       "      <td>12</td>\n",
       "      <td>11</td>\n",
       "      <td>0</td>\n",
       "      <td>0</td>\n",
       "      <td>NaN</td>\n",
       "      <td>Array of 6762522 elements</td>\n",
       "      <td>466280.png</td>\n",
       "      <td>Y</td>\n",
       "    </tr>\n",
       "    <tr>\n",
       "      <th>3483</th>\n",
       "      <td>2287</td>\n",
       "      <td>466281</td>\n",
       "      <td>ISO_IR 100</td>\n",
       "      <td>Computed Radiography Image Storage</td>\n",
       "      <td>1.3.51.0.7.12387810049.31749.41031.46011.30246...</td>\n",
       "      <td>20200415</td>\n",
       "      <td>95222.000</td>\n",
       "      <td>ACC00009454</td>\n",
       "      <td>CR</td>\n",
       "      <td>NaN</td>\n",
       "      <td>...</td>\n",
       "      <td>[0.1, 0.1]</td>\n",
       "      <td>16</td>\n",
       "      <td>15</td>\n",
       "      <td>14</td>\n",
       "      <td>0</td>\n",
       "      <td>0</td>\n",
       "      <td>NaN</td>\n",
       "      <td>Array of 19441046 elements</td>\n",
       "      <td>466281.png</td>\n",
       "      <td>Y</td>\n",
       "    </tr>\n",
       "    <tr>\n",
       "      <th>3484</th>\n",
       "      <td>2295</td>\n",
       "      <td>466290</td>\n",
       "      <td>ISO_IR 100</td>\n",
       "      <td>Computed Radiography Image Storage</td>\n",
       "      <td>1.3.12.2.1107.5.3.56.2693.11.202004172341270250</td>\n",
       "      <td>20200417</td>\n",
       "      <td>234127.000</td>\n",
       "      <td>ACC00010320</td>\n",
       "      <td>CR</td>\n",
       "      <td>NaN</td>\n",
       "      <td>...</td>\n",
       "      <td>NaN</td>\n",
       "      <td>16</td>\n",
       "      <td>12</td>\n",
       "      <td>11</td>\n",
       "      <td>0</td>\n",
       "      <td>0</td>\n",
       "      <td>NaN</td>\n",
       "      <td>Array of 5791876 elements</td>\n",
       "      <td>466290.png</td>\n",
       "      <td>Y</td>\n",
       "    </tr>\n",
       "  </tbody>\n",
       "</table>\n",
       "<p>3485 rows × 38 columns</p>\n",
       "</div>"
      ],
      "text/plain": [
       "      patientid   index SpecificCharacterSet  \\\n",
       "0             1  362424           ISO_IR 100   \n",
       "1            13  161101           ISO_IR 100   \n",
       "2            13  161102           ISO_IR 100   \n",
       "3            13  161103           ISO_IR 100   \n",
       "4            13  161104           ISO_IR 100   \n",
       "...         ...     ...                  ...   \n",
       "3480       2278  460652           ISO_IR 100   \n",
       "3481       2280  461518                  NaN   \n",
       "3482       2286  466280           ISO_IR 100   \n",
       "3483       2287  466281           ISO_IR 100   \n",
       "3484       2295  466290           ISO_IR 100   \n",
       "\n",
       "                                         SOPClassUID  \\\n",
       "0                 Computed Radiography Image Storage   \n",
       "1                 Computed Radiography Image Storage   \n",
       "2                 Computed Radiography Image Storage   \n",
       "3                 Computed Radiography Image Storage   \n",
       "4                 Computed Radiography Image Storage   \n",
       "...                                              ...   \n",
       "3480  Digital X-Ray Image Storage - For Presentation   \n",
       "3481              Computed Radiography Image Storage   \n",
       "3482              Computed Radiography Image Storage   \n",
       "3483              Computed Radiography Image Storage   \n",
       "3484              Computed Radiography Image Storage   \n",
       "\n",
       "                                         SOPInstanceUID  StudyDate  \\\n",
       "0       1.3.12.2.1107.5.3.56.2693.11.202004071536250109   20200407   \n",
       "1       1.3.12.2.1107.5.3.56.2693.11.202003210459280593   20200321   \n",
       "2       1.3.12.2.1107.5.3.56.2693.11.202003260728100281   20200326   \n",
       "3       1.3.12.2.1107.5.3.56.2693.11.202003220726220593   20200322   \n",
       "4       1.3.12.2.1107.5.3.56.2693.11.202003221418280437   20200322   \n",
       "...                                                 ...        ...   \n",
       "3480  1.3.46.670589.30.36.0.1.18774111139.1586556014...   20200410   \n",
       "3481  1.3.51.0.7.11525005549.51456.28486.35726.61854...   20200415   \n",
       "3482  1.3.51.0.7.3142572467.2116.61512.35199.56756.9...   20200414   \n",
       "3483  1.3.51.0.7.12387810049.31749.41031.46011.30246...   20200415   \n",
       "3484    1.3.12.2.1107.5.3.56.2693.11.202004172341270250   20200417   \n",
       "\n",
       "       StudyTime AccessionNumber Modality  ConversionType  ...  PixelSpacing  \\\n",
       "0     153625.000     ACC00009757       CR             NaN  ...           NaN   \n",
       "1      45928.000     ACC00005107       CR             NaN  ...           NaN   \n",
       "2      72810.000     ACC00005301       CR             NaN  ...           NaN   \n",
       "3      72622.000     ACC00005441       CR             NaN  ...           NaN   \n",
       "4     141828.000     ACC00005552       CR             NaN  ...           NaN   \n",
       "...          ...             ...      ...             ...  ...           ...   \n",
       "3480  225716.391     ACC00008725       DX             NaN  ...           NaN   \n",
       "3481  103742.000     ACC00010093       CR             NaN  ...  [0.15, 0.15]   \n",
       "3482  181443.000     ACC00009959       CR             NaN  ...  [0.15, 0.15]   \n",
       "3483   95222.000     ACC00009454       CR             NaN  ...    [0.1, 0.1]   \n",
       "3484  234127.000     ACC00010320       CR             NaN  ...           NaN   \n",
       "\n",
       "     BitsAllocated BitsStored  HighBit  PixelRepresentation  \\\n",
       "0               16         12       11                    0   \n",
       "1               16         12       11                    0   \n",
       "2               16         12       11                    0   \n",
       "3               16         12       11                    0   \n",
       "4               16         12       11                    0   \n",
       "...            ...        ...      ...                  ...   \n",
       "3480            16         12       11                    0   \n",
       "3481            16         12       11                    0   \n",
       "3482            16         12       11                    0   \n",
       "3483            16         15       14                    0   \n",
       "3484            16         12       11                    0   \n",
       "\n",
       "      LossyImageCompression LossyImageCompressionMethod  \\\n",
       "0                         0                         NaN   \n",
       "1                         0                         NaN   \n",
       "2                         0                         NaN   \n",
       "3                         0                         NaN   \n",
       "4                         0                         NaN   \n",
       "...                     ...                         ...   \n",
       "3480                      0                         NaN   \n",
       "3481                      0                         NaN   \n",
       "3482                      0                         NaN   \n",
       "3483                      0                         NaN   \n",
       "3484                      0                         NaN   \n",
       "\n",
       "                       PixelData    filename survival  \n",
       "0      Array of 5549966 elements  362424.png        N  \n",
       "1      Array of 6069570 elements  161101.png        Y  \n",
       "2      Array of 5683394 elements  161102.png        Y  \n",
       "3      Array of 5989198 elements  161103.png        Y  \n",
       "4      Array of 5990704 elements  161104.png        Y  \n",
       "...                          ...         ...      ...  \n",
       "3480   Array of 5674014 elements  460652.png        Y  \n",
       "3481   Array of 5694582 elements  461518.png        Y  \n",
       "3482   Array of 6762522 elements  466280.png        Y  \n",
       "3483  Array of 19441046 elements  466281.png        Y  \n",
       "3484   Array of 5791876 elements  466290.png        Y  \n",
       "\n",
       "[3485 rows x 38 columns]"
      ]
     },
     "execution_count": 10,
     "metadata": {},
     "output_type": "execute_result"
    }
   ],
   "source": [
    "case_features = pd.read_csv(os.path.join(path_images, 'clean_data.csv'), sep=';');\n",
    "case_features"
   ]
  },
  {
   "cell_type": "code",
   "execution_count": 11,
   "metadata": {},
   "outputs": [
    {
     "data": {
      "text/plain": [
       "(3485, 38)"
      ]
     },
     "execution_count": 11,
     "metadata": {},
     "output_type": "execute_result"
    }
   ],
   "source": [
    "case_features.shape"
   ]
  },
  {
   "cell_type": "markdown",
   "metadata": {},
   "source": [
    "## Split data"
   ]
  },
  {
   "cell_type": "code",
   "execution_count": 12,
   "metadata": {},
   "outputs": [],
   "source": [
    "target_class = 'survival'\n",
    "np.random.seed(seed)\n",
    "\n",
    "### Positive patient ids \n",
    "positive = case_features[case_features.survival.values == 'Y']\n",
    "positive_ids = positive.patientid.unique()\n",
    "\n",
    "### Negative patient ids \n",
    "negative = case_features[case_features.survival.values == 'N']\n",
    "negative_ids = negative.patientid.unique()\n",
    "n_negative_ids = len(negative_ids)\n",
    "\n",
    "### Test\n",
    "test_size = perc_split[2]*n_negative_ids\n",
    "test_ids = np.append(np.random.choice(positive_ids, size = math.floor(test_size), replace = False),\n",
    "                     np.random.choice(negative_ids, size = math.floor(test_size), replace = False))\n",
    "positive_ids = positive_ids[~np.isin(positive_ids, test_ids)]\n",
    "negative_ids = negative_ids[~np.isin(negative_ids, test_ids)]\n",
    "\n",
    "### Val\n",
    "val_size = perc_split[1]*n_negative_ids\n",
    "val_ids = np.append(np.random.choice(positive_ids, size = math.floor(val_size), replace = False),\n",
    "                     np.random.choice(negative_ids, size = math.floor(val_size), replace = False))\n",
    "positive_ids = positive_ids[~np.isin(positive_ids, val_ids)]\n",
    "negative_ids = negative_ids[~np.isin(negative_ids, val_ids)]\n",
    "\n",
    "### Train\n",
    "train_ids = np.append(positive_ids,\n",
    "                    negative_ids)\n",
    "\n",
    "# Split dataset based on patient ids\n",
    "case_features_train = case_features[case_features.patientid.isin(train_ids)]\n",
    "case_features_val = case_features[case_features.patientid.isin(val_ids)]\n",
    "case_features_test = case_features[case_features.patientid.isin(test_ids)]\n",
    "\n",
    "# Selección del patrón de datos X y del target y\n",
    "ytrain = case_features_train[target_class]\n",
    "del case_features_train[target_class]\n",
    "Xtrain = case_features_train\n",
    "\n",
    "yval = case_features_val[target_class]\n",
    "del case_features_val[target_class]\n",
    "Xval = case_features_val\n",
    "\n",
    "ytest = case_features_test[target_class]\n",
    "del case_features_test[target_class]\n",
    "Xtest = case_features_test"
   ]
  },
  {
   "cell_type": "code",
   "execution_count": 13,
   "metadata": {},
   "outputs": [
    {
     "name": "stdout",
     "output_type": "stream",
     "text": [
      "1120\n",
      "151\n",
      "25\n",
      "25\n",
      "25\n",
      "25\n"
     ]
    }
   ],
   "source": [
    "print(len(case_features_train[ytrain == \"Y\"].patientid.unique()))\n",
    "print(len(case_features_train[ytrain == \"N\"].patientid.unique()))\n",
    "print(len(case_features_val[yval == \"Y\"].patientid.unique()))\n",
    "print(len(case_features_val[yval == \"N\"].patientid.unique()))\n",
    "print(len(case_features_test[ytest == \"Y\"].patientid.unique()))\n",
    "print(len(case_features_test[ytest == \"N\"].patientid.unique()))"
   ]
  },
  {
   "cell_type": "code",
   "execution_count": 14,
   "metadata": {},
   "outputs": [
    {
     "name": "stdout",
     "output_type": "stream",
     "text": [
      "(3210, 37)\n",
      "(107, 37)\n",
      "(168, 37)\n"
     ]
    }
   ],
   "source": [
    "print(case_features_train.shape)\n",
    "print(case_features_val.shape)\n",
    "print(case_features_test.shape)"
   ]
  },
  {
   "cell_type": "code",
   "execution_count": 15,
   "metadata": {},
   "outputs": [
    {
     "name": "stdout",
     "output_type": "stream",
     "text": [
      "Y    2703\n",
      "N     507\n",
      "Name: survival, dtype: int64\n",
      "N    59\n",
      "Y    48\n",
      "Name: survival, dtype: int64\n",
      "N    92\n",
      "Y    76\n",
      "Name: survival, dtype: int64\n"
     ]
    }
   ],
   "source": [
    "print(ytrain.value_counts())\n",
    "print(yval.value_counts())\n",
    "print(ytest.value_counts())"
   ]
  },
  {
   "cell_type": "markdown",
   "metadata": {},
   "source": [
    "## Read images"
   ]
  },
  {
   "cell_type": "markdown",
   "metadata": {},
   "source": [
    "### Train"
   ]
  },
  {
   "cell_type": "code",
   "execution_count": 17,
   "metadata": {},
   "outputs": [
    {
     "name": "stdout",
     "output_type": "stream",
     "text": [
      "(3210, 224, 224, 3)\n"
     ]
    }
   ],
   "source": [
    "X_train = []\n",
    "for i in range(Xtrain.shape[0]):\n",
    "    image_path = os.path.join(path_images, 'processed', Xtrain.iloc[i].filename)\n",
    "    imagen = Image.open(image_path)\n",
    "    imagen = np.asarray(imagen.convert(\"RGB\"))\n",
    "    imagen = resize(imagen,  input_shape)\n",
    "    X_train.append(imagen)\n",
    "\n",
    "X_train = np.stack(X_train, axis = 0)\n",
    "print(X_train.shape)"
   ]
  },
  {
   "cell_type": "markdown",
   "metadata": {},
   "source": [
    "### Validation"
   ]
  },
  {
   "cell_type": "code",
   "execution_count": 18,
   "metadata": {},
   "outputs": [
    {
     "name": "stdout",
     "output_type": "stream",
     "text": [
      "(107, 224, 224, 3)\n"
     ]
    }
   ],
   "source": [
    "X_val = []\n",
    "for i in range(Xval.shape[0]):\n",
    "    image_path = os.path.join(path_images, 'processed', Xval.iloc[i].filename)\n",
    "    imagen = Image.open(image_path)\n",
    "    imagen = np.asarray(imagen.convert(\"RGB\"))\n",
    "    imagen = resize(imagen,  input_shape)\n",
    "    X_val.append(imagen)\n",
    "\n",
    "X_val = np.stack(X_val, axis = 0)\n",
    "print(X_val.shape)"
   ]
  },
  {
   "cell_type": "markdown",
   "metadata": {},
   "source": [
    "### Test"
   ]
  },
  {
   "cell_type": "code",
   "execution_count": 21,
   "metadata": {},
   "outputs": [
    {
     "name": "stdout",
     "output_type": "stream",
     "text": [
      "(168, 224, 224, 3)\n"
     ]
    }
   ],
   "source": [
    "X_test = []\n",
    "for i in range(Xtest.shape[0]):\n",
    "    # print('%0.2f%%' % float(100*i/Xtest.shape[0]))\n",
    "    image_path = os.path.join(path_images, 'processed', Xtest.iloc[i].filename)\n",
    "    imagen = Image.open(image_path)\n",
    "    imagen = np.asarray(imagen.convert(\"RGB\"))\n",
    "    imagen = resize(imagen,  input_shape)\n",
    "    X_test.append(imagen)\n",
    "\n",
    "X_test = np.stack(X_test, axis = 0)\n",
    "print(X_test.shape)"
   ]
  },
  {
   "cell_type": "markdown",
   "metadata": {},
   "source": [
    "## Set target"
   ]
  },
  {
   "cell_type": "markdown",
   "metadata": {},
   "source": [
    "### Train"
   ]
  },
  {
   "cell_type": "code",
   "execution_count": 22,
   "metadata": {},
   "outputs": [
    {
     "data": {
      "text/plain": [
       "(3210,)"
      ]
     },
     "execution_count": 22,
     "metadata": {},
     "output_type": "execute_result"
    }
   ],
   "source": [
    "ytrain[ytrain=='Y'] = 0\n",
    "ytrain[ytrain=='N'] = 1\n",
    "y_train = np.array(ytrain, dtype = np.int64)\n",
    "y_train.shape"
   ]
  },
  {
   "cell_type": "markdown",
   "metadata": {},
   "source": [
    "### Validation"
   ]
  },
  {
   "cell_type": "code",
   "execution_count": 23,
   "metadata": {},
   "outputs": [
    {
     "data": {
      "text/plain": [
       "(107,)"
      ]
     },
     "execution_count": 23,
     "metadata": {},
     "output_type": "execute_result"
    }
   ],
   "source": [
    "yval[yval=='Y'] = 0\n",
    "yval[yval=='N'] = 1\n",
    "y_val = np.array(yval, dtype = np.int64)\n",
    "y_val.shape"
   ]
  },
  {
   "cell_type": "markdown",
   "metadata": {},
   "source": [
    "### Test"
   ]
  },
  {
   "cell_type": "code",
   "execution_count": 24,
   "metadata": {},
   "outputs": [
    {
     "data": {
      "text/plain": [
       "(168,)"
      ]
     },
     "execution_count": 24,
     "metadata": {},
     "output_type": "execute_result"
    }
   ],
   "source": [
    "ytest[ytest=='Y'] = 0\n",
    "ytest[ytest=='N'] = 1\n",
    "y_test = np.array(ytest, dtype = np.int64)\n",
    "y_test.shape"
   ]
  },
  {
   "cell_type": "markdown",
   "metadata": {},
   "source": [
    "## Set class weights"
   ]
  },
  {
   "cell_type": "markdown",
   "metadata": {},
   "source": [
    "### Train"
   ]
  },
  {
   "cell_type": "code",
   "execution_count": 25,
   "metadata": {},
   "outputs": [
    {
     "name": "stdout",
     "output_type": "stream",
     "text": [
      "[0.84205607 0.15794393]\n"
     ]
    }
   ],
   "source": [
    "ratio_pos = np.count_nonzero(y_train == 0) / len(y_train)\n",
    "ratio_neg = np.count_nonzero(y_train == 1) / len(y_train)\n",
    "class_weight_train = np.array((ratio_pos, ratio_neg))\n",
    "print(class_weight_train)\n"
   ]
  },
  {
   "cell_type": "markdown",
   "metadata": {},
   "source": [
    "### Validation"
   ]
  },
  {
   "cell_type": "code",
   "execution_count": 26,
   "metadata": {},
   "outputs": [
    {
     "name": "stdout",
     "output_type": "stream",
     "text": [
      "[0.44859813 0.55140187]\n"
     ]
    }
   ],
   "source": [
    "ratio_pos = np.count_nonzero(y_val == 0) / len(y_val)\n",
    "ratio_neg = np.count_nonzero(y_val == 1) / len(y_val)\n",
    "class_weight_val = np.array((ratio_pos, ratio_neg))\n",
    "print(class_weight_val)\n"
   ]
  },
  {
   "cell_type": "markdown",
   "metadata": {},
   "source": [
    "### Test"
   ]
  },
  {
   "cell_type": "code",
   "execution_count": 27,
   "metadata": {},
   "outputs": [
    {
     "name": "stdout",
     "output_type": "stream",
     "text": [
      "[0.45238095 0.54761905]\n"
     ]
    }
   ],
   "source": [
    "ratio_pos = np.count_nonzero(y_test == 0) / len(y_test)\n",
    "ratio_neg = np.count_nonzero(y_test == 1) / len(y_test)\n",
    "class_weight_test = np.array((ratio_pos, ratio_neg))\n",
    "print(class_weight_test)"
   ]
  },
  {
   "cell_type": "markdown",
   "metadata": {},
   "source": [
    "# Data Augmentation"
   ]
  },
  {
   "cell_type": "code",
   "execution_count": 28,
   "metadata": {},
   "outputs": [],
   "source": [
    "datagen = ImageDataGenerator(featurewise_center=True, \n",
    "                             featurewise_std_normalization=True, \n",
    "                             rotation_range=90)\n",
    "datagen.fit(X_train)"
   ]
  },
  {
   "cell_type": "markdown",
   "metadata": {},
   "source": [
    "# Model Definition"
   ]
  },
  {
   "cell_type": "markdown",
   "metadata": {},
   "source": [
    "## Callbacks"
   ]
  },
  {
   "cell_type": "markdown",
   "metadata": {},
   "source": [
    "### Checkpoints"
   ]
  },
  {
   "cell_type": "code",
   "execution_count": 29,
   "metadata": {},
   "outputs": [],
   "source": [
    "save_dir = os.path.join(\n",
    "    os.getcwd(),\n",
    "    '../saved_models'\n",
    ")\n",
    "if not os.path.isdir(save_dir):\n",
    "    os.makedirs(save_dir)\n",
    "\n",
    "# This callback saves the weights of the model after each epoch\n",
    "checkpoint = ModelCheckpoint(\n",
    "    '../saved_models/weights.epoch_{epoch:02d}.hdf5',\n",
    "    monitor='val_loss', \n",
    "    save_best_only=True, \n",
    "    save_weights_only=False,\n",
    "    mode='auto',\n",
    "    verbose=1\n",
    ")\n",
    "\n",
    "# This callback writes logs for TensorBoard\n",
    "tensorboard = TensorBoard(\n",
    "    log_dir='./Graph', \n",
    "    histogram_freq=0,  \n",
    "    write_graph=True\n",
    ")\n",
    "\n",
    "# This callback writes logs for TensorBoard\n",
    "tensorboard_augmented = TensorBoard(\n",
    "    log_dir='./Graph_augmented', \n",
    "    histogram_freq=0,  \n",
    "    write_graph=True\n",
    ")\n",
    "\n",
    "my_callbacks = EarlyStopping(monitor='val_auc', patience=200, verbose=1, mode='max')\n",
    "my_callbacks_augmented = EarlyStopping(monitor='val_auc', patience=100, verbose=1, mode='max')\n",
    "\n",
    "\n",
    "callbacks_list = [tensorboard, my_callbacks]\n",
    "callbacks_list_augmented = [tensorboard_augmented, my_callbacks_augmented]"
   ]
  },
  {
   "cell_type": "markdown",
   "metadata": {},
   "source": [
    "## Define CNN structure"
   ]
  },
  {
   "cell_type": "markdown",
   "metadata": {},
   "source": [
    "# Hyperparameters tuning "
   ]
  },
  {
   "cell_type": "markdown",
   "metadata": {},
   "source": [
    "### Augmented dataset"
   ]
  },
  {
   "cell_type": "code",
   "execution_count": null,
   "metadata": {},
   "outputs": [
    {
     "name": "stdout",
     "output_type": "stream",
     "text": [
      "Numero de épocas 10000 , batch size 256 , learning rate 0.01\n"
     ]
    }
   ],
   "source": [
    "\n",
    "epochs = [ 10000]\n",
    "batch_size = [32, 64, 128]\n",
    "learning_rate = [0.1, 0.01, 0.001]\n",
    "\n",
    "previous_val_auc = 0\n",
    "df = pd.DataFrame()\n",
    "\n",
    "for e in epochs:\n",
    "    for b in batch_size:\n",
    "        for l in learning_rate:\n",
    "            print(\"Numero de épocas\", e,\", batch size\", b,  \", learning rate\", l)\n",
    "\n",
    "            # Augmented\n",
    "            base_model2, model2 = get_model(l)\n",
    "            ###### ENTRENAMIENTO\n",
    "            out = model2.fit_generator(datagen.flow(X_train, y_train, batch_size=b),\n",
    "                                             validation_data=datagen.flow(X_val, y_val),\n",
    "                                             steps_per_epoch=len(X_train) / b, \n",
    "                                             epochs=e,\n",
    "                                             class_weight=class_weight_train,\n",
    "                                             callbacks = callbacks_list_augmented,       \n",
    "                                             verbose=0)\n",
    "\n",
    "            train_loss = out.history['loss'][-1]\n",
    "            val_loss = out.history['val_loss'][-1]\n",
    "            train_auc = out.history['auc'][-1]\n",
    "            val_auc = out.history['val_auc'][-1]\n",
    "            stopped_epoch = my_callbacks.stopped_epoch\n",
    "            model = out.model\n",
    "            \n",
    "            res = pd.DataFrame([e, l, b, stopped_epoch, train_loss, val_loss, train_auc, val_auc])\n",
    "            df = pd.concat([df, res], axis=1)\n",
    "\n",
    "            df.to_csv('model_results34.csv') \n",
    "            \n",
    "            if(previous_val_auc < val_auc):\n",
    "                save_dir = os.path.join(\n",
    "                    os.getcwd(),\n",
    "                    '../model_results_y'\n",
    "                )\n",
    "                if not os.path.isdir(save_dir):\n",
    "                    os.makedirs(save_dir)\n",
    "                model.save('../../model_results_y/model.h5')\n",
    "                \n",
    "                previous_val_auc = val_auc\n",
    "                \n",
    "            for e in range(epochs):    \n",
    "                acum_tr_acc = acum_tr_acc + history.history['accuracy']\n",
    "                acum_val_acc = acum_val_acc + history.history['val_accuracy']\n",
    "\n",
    "                if len(acum_tr_acc) > 1:\n",
    "                    clear_output()\n",
    "                    grafica_entrenamiento(acum_tr_acc, acum_val_acc)\n",
    "                           \n",
    "df.index = ['epochs', 'learning_rate', 'batch_size',\n",
    "            'early_stopping', 'train_loss', 'val_loss', 'train_auc', 'val_auc']\n",
    "df.to_csv('model_results3.csv') "
   ]
  },
  {
   "cell_type": "code",
   "execution_count": null,
   "metadata": {},
   "outputs": [],
   "source": [
    "df.index = ['epochs', 'learning_rate', 'batch_size',\n",
    "            'early_stopping', 'train_loss', 'val_loss', 'train_auc', 'val_auc']\n",
    "df.to_csv('model_results4.csv') "
   ]
  },
  {
   "cell_type": "code",
   "execution_count": null,
   "metadata": {},
   "outputs": [],
   "source": [
    "df"
   ]
  },
  {
   "cell_type": "code",
   "execution_count": 36,
   "metadata": {},
   "outputs": [
    {
     "data": {
      "text/plain": [
       "{'val_loss': [1.0892773866653442,\n",
       "  1.1244773864746094,\n",
       "  0.8930120468139648,\n",
       "  0.7819281220436096,\n",
       "  1.3259198665618896,\n",
       "  0.7867472171783447,\n",
       "  0.8058971762657166,\n",
       "  1.3188318014144897,\n",
       "  0.6677631139755249,\n",
       "  1.1565334796905518,\n",
       "  1.3692364692687988,\n",
       "  1.1375232934951782,\n",
       "  1.3945266008377075,\n",
       "  1.1553953886032104,\n",
       "  1.7591633796691895,\n",
       "  1.3566734790802002,\n",
       "  1.6213066577911377,\n",
       "  0.9622960686683655,\n",
       "  1.2543214559555054,\n",
       "  1.085792064666748,\n",
       "  1.7223517894744873,\n",
       "  1.3976962566375732,\n",
       "  1.374426007270813,\n",
       "  0.785800039768219,\n",
       "  1.9895057678222656,\n",
       "  1.0101350545883179,\n",
       "  0.9067074060440063,\n",
       "  1.2463587522506714,\n",
       "  0.6698571443557739,\n",
       "  1.315226435661316,\n",
       "  1.1903095245361328,\n",
       "  1.3676300048828125,\n",
       "  1.0780596733093262,\n",
       "  1.0966622829437256,\n",
       "  0.6554526686668396,\n",
       "  1.176869511604309,\n",
       "  1.6392364501953125,\n",
       "  1.2586866617202759,\n",
       "  1.2779544591903687,\n",
       "  1.3045169115066528,\n",
       "  0.8743593692779541,\n",
       "  1.5273231267929077,\n",
       "  1.1861010789871216,\n",
       "  1.2631207704544067,\n",
       "  1.198837399482727,\n",
       "  1.2848109006881714,\n",
       "  1.5862950086593628,\n",
       "  0.7622107863426208,\n",
       "  1.388566493988037,\n",
       "  1.202420711517334,\n",
       "  1.3151485919952393,\n",
       "  0.8713287115097046,\n",
       "  1.2935267686843872,\n",
       "  1.3727208375930786,\n",
       "  1.3628181219100952,\n",
       "  1.5576369762420654,\n",
       "  1.0535823106765747,\n",
       "  1.4615801572799683,\n",
       "  1.1083290576934814,\n",
       "  0.7643674612045288,\n",
       "  1.7470227479934692,\n",
       "  1.2550570964813232,\n",
       "  1.1102626323699951,\n",
       "  1.3233184814453125,\n",
       "  1.406205654144287,\n",
       "  1.73125422000885,\n",
       "  1.2124184370040894,\n",
       "  0.9152103662490845,\n",
       "  1.683373212814331,\n",
       "  1.5743248462677002,\n",
       "  1.639313817024231,\n",
       "  0.9695417284965515,\n",
       "  1.012690544128418,\n",
       "  1.179240345954895,\n",
       "  2.014977216720581,\n",
       "  1.0323753356933594,\n",
       "  1.0038509368896484,\n",
       "  1.222532868385315,\n",
       "  1.197808027267456,\n",
       "  1.361922264099121,\n",
       "  2.0943639278411865,\n",
       "  1.5930523872375488,\n",
       "  1.8833224773406982,\n",
       "  0.9172197580337524,\n",
       "  1.3127151727676392,\n",
       "  0.7683306336402893,\n",
       "  1.060584545135498,\n",
       "  1.5832552909851074,\n",
       "  1.366803765296936,\n",
       "  1.6416019201278687,\n",
       "  1.6931637525558472,\n",
       "  1.3697758913040161,\n",
       "  1.9783222675323486,\n",
       "  1.598244547843933,\n",
       "  1.417777180671692,\n",
       "  1.1512600183486938,\n",
       "  1.3859750032424927,\n",
       "  1.445136547088623,\n",
       "  1.722771406173706,\n",
       "  1.6931140422821045],\n",
       " 'val_auc': [0.5987094640731812,\n",
       "  0.6238483786582947,\n",
       "  0.635125994682312,\n",
       "  0.646967887878418,\n",
       "  0.6543964147567749,\n",
       "  0.6519528031349182,\n",
       "  0.650510311126709,\n",
       "  0.6520916819572449,\n",
       "  0.6570560932159424,\n",
       "  0.6611831188201904,\n",
       "  0.6629797220230103,\n",
       "  0.6631280183792114,\n",
       "  0.6640739440917969,\n",
       "  0.6659759283065796,\n",
       "  0.665938675403595,\n",
       "  0.6658437252044678,\n",
       "  0.6666966676712036,\n",
       "  0.6672596335411072,\n",
       "  0.6686316728591919,\n",
       "  0.6694611310958862,\n",
       "  0.6700946092605591,\n",
       "  0.6701557040214539,\n",
       "  0.6702991724014282,\n",
       "  0.6714497804641724,\n",
       "  0.6719661951065063,\n",
       "  0.6723932027816772,\n",
       "  0.6731958389282227,\n",
       "  0.6737557053565979,\n",
       "  0.6745324730873108,\n",
       "  0.6754505634307861,\n",
       "  0.6763066053390503,\n",
       "  0.6766494512557983,\n",
       "  0.6771714687347412,\n",
       "  0.6781086921691895,\n",
       "  0.6785901188850403,\n",
       "  0.6789129376411438,\n",
       "  0.6788790225982666,\n",
       "  0.6796479225158691,\n",
       "  0.679929256439209,\n",
       "  0.6805219650268555,\n",
       "  0.6812803745269775,\n",
       "  0.6819062829017639,\n",
       "  0.6820117235183716,\n",
       "  0.6827499270439148,\n",
       "  0.6834614276885986,\n",
       "  0.6836739778518677,\n",
       "  0.6842104196548462,\n",
       "  0.6841793060302734,\n",
       "  0.6846349239349365,\n",
       "  0.6853264570236206,\n",
       "  0.6855731010437012,\n",
       "  0.6862146854400635,\n",
       "  0.686630368232727,\n",
       "  0.6869204044342041,\n",
       "  0.6871320009231567,\n",
       "  0.6873623132705688,\n",
       "  0.6874332427978516,\n",
       "  0.6873298287391663,\n",
       "  0.6874677538871765,\n",
       "  0.6875252723693848,\n",
       "  0.6876713633537292,\n",
       "  0.6873276829719543,\n",
       "  0.6871384978294373,\n",
       "  0.6872416734695435,\n",
       "  0.6869785785675049,\n",
       "  0.6868232488632202,\n",
       "  0.6868526339530945,\n",
       "  0.6873230934143066,\n",
       "  0.6875587701797485,\n",
       "  0.6875760555267334,\n",
       "  0.6878851652145386,\n",
       "  0.6880378723144531,\n",
       "  0.688221275806427,\n",
       "  0.6882187128067017,\n",
       "  0.6882312297821045,\n",
       "  0.6883347034454346,\n",
       "  0.6887017488479614,\n",
       "  0.6888803839683533,\n",
       "  0.6888171434402466,\n",
       "  0.6888012886047363,\n",
       "  0.6887425184249878,\n",
       "  0.6885401010513306,\n",
       "  0.688487708568573,\n",
       "  0.6886148452758789,\n",
       "  0.6887706518173218,\n",
       "  0.688969612121582,\n",
       "  0.6891071796417236,\n",
       "  0.6892759799957275,\n",
       "  0.6891828775405884,\n",
       "  0.6892154216766357,\n",
       "  0.6893652677536011,\n",
       "  0.6895245909690857,\n",
       "  0.6894781589508057,\n",
       "  0.6893839836120605,\n",
       "  0.6896100640296936,\n",
       "  0.6898359060287476,\n",
       "  0.6899548768997192,\n",
       "  0.6900873780250549,\n",
       "  0.6902215480804443,\n",
       "  0.6902844309806824],\n",
       " 'loss': [0.4314636045898604,\n",
       "  0.4195669912103552,\n",
       "  0.4137462960968136,\n",
       "  0.4093077636953455,\n",
       "  0.4062843665712719,\n",
       "  0.41408145735939716,\n",
       "  0.41223222893717876,\n",
       "  0.41093236868997973,\n",
       "  0.40263957654204324,\n",
       "  0.4044151813256035,\n",
       "  0.4031581021914972,\n",
       "  0.40726515073271186,\n",
       "  0.4030775970573366,\n",
       "  0.3980396336484178,\n",
       "  0.40194550106458576,\n",
       "  0.404031386590821,\n",
       "  0.40296928719196734,\n",
       "  0.40219825961136746,\n",
       "  0.4008074078418755,\n",
       "  0.4029122344801359,\n",
       "  0.40014940128890897,\n",
       "  0.39688223112966414,\n",
       "  0.3977028845255249,\n",
       "  0.39435021513347684,\n",
       "  0.4012495521630082,\n",
       "  0.4019363310478187,\n",
       "  0.3951596735422485,\n",
       "  0.39671327583143645,\n",
       "  0.3963604645937031,\n",
       "  0.39533152959057105,\n",
       "  0.3936999876179799,\n",
       "  0.3949047312929623,\n",
       "  0.3965620184056113,\n",
       "  0.3923871018619181,\n",
       "  0.3962950096694851,\n",
       "  0.3981575814362998,\n",
       "  0.4027084778959506,\n",
       "  0.38822946260651325,\n",
       "  0.39725416765034754,\n",
       "  0.39350040870663533,\n",
       "  0.39388908010405543,\n",
       "  0.39391289041421124,\n",
       "  0.40121723707776946,\n",
       "  0.3910868391812405,\n",
       "  0.3878561735153198,\n",
       "  0.3981146102568071,\n",
       "  0.3918612991538003,\n",
       "  0.393818127616915,\n",
       "  0.38708677364286975,\n",
       "  0.39072446344054745,\n",
       "  0.3975068056880499,\n",
       "  0.387044961430202,\n",
       "  0.39406526676405257,\n",
       "  0.3890503299106319,\n",
       "  0.3948342694207515,\n",
       "  0.3973338801912801,\n",
       "  0.3967539122914228,\n",
       "  0.3955514290251093,\n",
       "  0.3882777591360692,\n",
       "  0.39363956892880325,\n",
       "  0.38896361027736903,\n",
       "  0.3961611056810599,\n",
       "  0.3977401120083354,\n",
       "  0.38714882439913406,\n",
       "  0.3940462153277293,\n",
       "  0.39471273659917055,\n",
       "  0.3931472635250597,\n",
       "  0.38226748554506035,\n",
       "  0.3884984721090192,\n",
       "  0.3981711125448114,\n",
       "  0.3866012818531084,\n",
       "  0.38720799094048614,\n",
       "  0.3896306423754707,\n",
       "  0.39523248477516887,\n",
       "  0.39443582708590497,\n",
       "  0.39113086716408296,\n",
       "  0.38694631971674176,\n",
       "  0.3897944197105099,\n",
       "  0.39847410362086194,\n",
       "  0.3954624089125161,\n",
       "  0.3896885505717863,\n",
       "  0.3987910262613653,\n",
       "  0.3893203246630612,\n",
       "  0.38458874747389205,\n",
       "  0.3922795846083454,\n",
       "  0.39026022966591367,\n",
       "  0.38880167209842126,\n",
       "  0.3888501941972061,\n",
       "  0.3911483454927106,\n",
       "  0.38651825967607467,\n",
       "  0.3847895226560278,\n",
       "  0.3858412591467765,\n",
       "  0.3911152439696767,\n",
       "  0.3889939624943837,\n",
       "  0.38364201217796945,\n",
       "  0.38854225365172296,\n",
       "  0.3881083061761945,\n",
       "  0.3849181785019016,\n",
       "  0.38841963706543886,\n",
       "  0.3873226244501607],\n",
       " 'auc': [0.5566902,\n",
       "  0.6186262,\n",
       "  0.6255039,\n",
       "  0.6423894,\n",
       "  0.65351456,\n",
       "  0.6529413,\n",
       "  0.6499043,\n",
       "  0.65142417,\n",
       "  0.6543909,\n",
       "  0.65996367,\n",
       "  0.6628751,\n",
       "  0.66281396,\n",
       "  0.6632848,\n",
       "  0.6646965,\n",
       "  0.6661718,\n",
       "  0.6650176,\n",
       "  0.6666905,\n",
       "  0.6668161,\n",
       "  0.6679533,\n",
       "  0.66926265,\n",
       "  0.6697892,\n",
       "  0.6702238,\n",
       "  0.67033476,\n",
       "  0.6706788,\n",
       "  0.67180765,\n",
       "  0.671853,\n",
       "  0.6731843,\n",
       "  0.6735209,\n",
       "  0.6739424,\n",
       "  0.6749995,\n",
       "  0.6757596,\n",
       "  0.67659914,\n",
       "  0.676613,\n",
       "  0.67771727,\n",
       "  0.6784416,\n",
       "  0.6784148,\n",
       "  0.6789317,\n",
       "  0.67919755,\n",
       "  0.67969364,\n",
       "  0.68030703,\n",
       "  0.6806033,\n",
       "  0.6816617,\n",
       "  0.681779,\n",
       "  0.6823226,\n",
       "  0.68305105,\n",
       "  0.68348336,\n",
       "  0.68399185,\n",
       "  0.6842061,\n",
       "  0.68431306,\n",
       "  0.6849194,\n",
       "  0.68550104,\n",
       "  0.6857372,\n",
       "  0.6865187,\n",
       "  0.6868568,\n",
       "  0.68695205,\n",
       "  0.687303,\n",
       "  0.68734807,\n",
       "  0.6874503,\n",
       "  0.68740904,\n",
       "  0.6874104,\n",
       "  0.6876834,\n",
       "  0.68740547,\n",
       "  0.6871794,\n",
       "  0.6871874,\n",
       "  0.68706805,\n",
       "  0.68659776,\n",
       "  0.6868428,\n",
       "  0.6870889,\n",
       "  0.6873701,\n",
       "  0.68747175,\n",
       "  0.68766916,\n",
       "  0.6879968,\n",
       "  0.68800324,\n",
       "  0.68830645,\n",
       "  0.688249,\n",
       "  0.6881739,\n",
       "  0.6885127,\n",
       "  0.68879455,\n",
       "  0.6888145,\n",
       "  0.6888853,\n",
       "  0.6887256,\n",
       "  0.6885662,\n",
       "  0.6884885,\n",
       "  0.6884708,\n",
       "  0.6886315,\n",
       "  0.68897676,\n",
       "  0.689022,\n",
       "  0.6891888,\n",
       "  0.6893241,\n",
       "  0.6891863,\n",
       "  0.6892165,\n",
       "  0.6893222,\n",
       "  0.6895338,\n",
       "  0.6893566,\n",
       "  0.6894585,\n",
       "  0.6896653,\n",
       "  0.6899093,\n",
       "  0.6900396,\n",
       "  0.69007355,\n",
       "  0.6902959]}"
      ]
     },
     "execution_count": 36,
     "metadata": {},
     "output_type": "execute_result"
    }
   ],
   "source": [
    "out.history"
   ]
  },
  {
   "cell_type": "markdown",
   "metadata": {},
   "source": [
    "### Predict"
   ]
  },
  {
   "cell_type": "code",
   "execution_count": 39,
   "metadata": {},
   "outputs": [],
   "source": [
    "pred_train = model.predict(X_train)\n",
    "pred_val = model.predict(X_val)\n",
    "pred_test = model.predict(X_test)"
   ]
  },
  {
   "cell_type": "markdown",
   "metadata": {},
   "source": [
    "### Metrics"
   ]
  },
  {
   "cell_type": "code",
   "execution_count": 40,
   "metadata": {},
   "outputs": [
    {
     "name": "stdout",
     "output_type": "stream",
     "text": [
      "AUC train = 0.7008707543156445 - AUC val = 0.6345338983050848 - AUC test = 0.7000858123569793\n"
     ]
    }
   ],
   "source": [
    "auc_train = roc_auc_score(y_true = y_train, y_score = pred_train)\n",
    "auc_val = roc_auc_score(y_true = y_val, y_score = pred_val)\n",
    "auc_test = roc_auc_score(y_true = y_test, y_score = pred_test)\n",
    "print('AUC train = %s - AUC val = %s - AUC test = %s' % (str(auc_train), str(auc_val), str(auc_test)))"
   ]
  },
  {
   "cell_type": "code",
   "execution_count": 44,
   "metadata": {},
   "outputs": [
    {
     "name": "stdout",
     "output_type": "stream",
     "text": [
      "[[2703    0]\n",
      " [ 507    0]]\n",
      "[[48  0]\n",
      " [59  0]]\n",
      "[[76  0]\n",
      " [92  0]]\n"
     ]
    }
   ],
   "source": [
    "y_labels_train = (pred_train >= 0.5).astype(int)\n",
    "y_labels_val = (pred_val >= 0.5).astype(int)\n",
    "y_labels_test = (pred_test >= 0.5).astype(int)\n",
    "cm_train = confusion_matrix(y_pred = y_labels_train, y_true = y_train)\n",
    "cm_val = confusion_matrix(y_pred = y_labels_val, y_true = y_val)\n",
    "cm_test = confusion_matrix(y_pred = y_labels_test, y_true = y_test)\n",
    "print(cm_train)\n",
    "print(cm_val)\n",
    "print(cm_test)"
   ]
  },
  {
   "cell_type": "code",
   "execution_count": 45,
   "metadata": {},
   "outputs": [],
   "source": [
    "import scikitplot as skplt\n",
    "import matplotlib.pyplot as plt\n",
    "\n",
    "from sklearn.metrics import roc_curve\n",
    "\n"
   ]
  },
  {
   "cell_type": "code",
   "execution_count": 46,
   "metadata": {},
   "outputs": [
    {
     "data": {
      "image/png": "[encoded data removed]",
      "text/plain": [
       "<Figure size 432x288 with 1 Axes>"
      ]
     },
     "metadata": {
      "needs_background": "light"
     },
     "output_type": "display_data"
    },
    {
     "data": {
      "image/png": "[encoded data removed]",
      "text/plain": [
       "<Figure size 432x288 with 1 Axes>"
      ]
     },
     "metadata": {
      "needs_background": "light"
     },
     "output_type": "display_data"
    }
   ],
   "source": [
    "\n",
    "fpr_train, tpr_train, threshold_train = roc_curve(y_train, pred_train)\n",
    "roc_auc_train = roc_auc_score(y_true = y_train, y_score = pred_train)\n",
    "fpr_val, tpr_val, threshold_val = roc_curve(y_val, pred_val)\n",
    "roc_auc_val = roc_auc_score(y_true = y_val, y_score = pred_val)\n",
    "fpr_test, tpr_test, threshold_test = roc_curve(y_test, pred_test)\n",
    "roc_auc_test = roc_auc_score(y_true = y_test, y_score = pred_test)\n",
    "\n",
    "plt.title('Receiver Operating Characteristic')\n",
    "plt.plot(fpr_train, tpr_train, 'r', label = 'AUC = %0.2f' % roc_auc_test)\n",
    "plt.plot(fpr_val, tpr_val, 'g', label = 'AUC = %0.2f' % roc_auc_val)\n",
    "plt.plot(fpr_test, tpr_test, 'b', label = 'AUC = %0.2f' % roc_auc_test)\n",
    "plt.legend(loc = 'lower right')\n",
    "plt.plot([0, 1], [0, 1],'k--')\n",
    "plt.xlim([-0.01, 1])\n",
    "plt.ylim([0, 1.01])\n",
    "plt.ylabel('True Positive Rate')\n",
    "plt.xlabel('False Positive Rate')\n",
    "plt.show()\n",
    "\n",
    "plt.title('Receiver Operating Characteristic')\n",
    "plt.plot(fpr_train, tpr_train, 'b', label = 'AUC = %0.2f' % roc_auc_train)\n",
    "plt.legend(loc = 'lower right')\n",
    "plt.plot([0, 1], [0, 1],'r--')\n",
    "plt.xlim([-0.01, 1])\n",
    "plt.ylim([0, 1.01])\n",
    "plt.ylabel('True Positive Rate')\n",
    "plt.xlabel('False Positive Rate')\n",
    "plt.show()"
   ]
  },
  {
   "cell_type": "markdown",
   "metadata": {},
   "source": [
    "### Save output"
   ]
  },
  {
   "cell_type": "code",
   "execution_count": 1,
   "metadata": {},
   "outputs": [],
   "source": [
    "X_train.to_csv(os.path.join('../predictions_y', 'X_train.csv'))\n",
    "np.savetxt(os.path.join('../predictions_y', 'predictions_train.csv'), pred_train, delimiter=\";\")\n",
    "np.savetxt(os.path.join('../predictions_y', 'y_train.csv'), y_train, delimiter=\";\")\n",
    "X_val.to_csv(os.path.join('../predictions_y', 'X_val.csv'))\n",
    "np.savetxt(os.path.join('../predictions_y', 'predictions_val.csv'), pred_val, delimiter=\";\")\n",
    "np.savetxt(os.path.join('../predictions_y', 'y_val.csv'), y_val, delimiter=\";\")\n",
    "X_test.to_csv(os.path.join('../predictions_y', 'X_test.csv'))\n",
    "np.savetxt(os.path.join('../predictions_y', 'predictions_test.csv'),pred_test, delimiter=\";\")\n",
    "np.savetxt(os.path.join('../predictions_y', 'y_test.csv'), y_test, delimiter=\";\")"
   ]
  },
  {
   "cell_type": "markdown",
   "metadata": {},
   "source": [
    "## TALOS"
   ]
  },
  {
   "cell_type": "code",
   "execution_count": null,
   "metadata": {},
   "outputs": [],
   "source": [
    "import talos as ta"
   ]
  },
  {
   "cell_type": "code",
   "execution_count": null,
   "metadata": {},
   "outputs": [],
   "source": [
    "p = {\n",
    "    'first_neuron': [512],\n",
    "    'epochs' :[20, 100],\n",
    "    'batch_size': [10,15]\n",
    "}\n"
   ]
  },
  {
   "cell_type": "code",
   "execution_count": null,
   "metadata": {},
   "outputs": [],
   "source": [
    "t = ta.Scan(x = X_train, y = y_train, x_val = X_val, y_val = y_val, params = p, model = get_model_talos,\n",
    "            experiment_name ='exp_1', print_params= True)"
   ]
  },
  {
   "cell_type": "code",
   "execution_count": null,
   "metadata": {},
   "outputs": [],
   "source": [
    "###### ENTRENAMIENTO\n",
    "history = model.fit(X_train,y_train,\n",
    "          validation_data=(X_val, y_val),\n",
    "          batch_size=batch_size, \n",
    "          nb_epoch=epochs,\n",
    "          class_weight=class_weight_train,\n",
    "          callbacks = callbacks_list,\n",
    "          verbose=1)\n"
   ]
  },
  {
   "cell_type": "code",
   "execution_count": null,
   "metadata": {},
   "outputs": [],
   "source": [
    "save_dir = os.path.join(\n",
    "    os.getcwd(),\n",
    "    '../model_results_y'\n",
    ")\n",
    "if not os.path.isdir(save_dir):\n",
    "    os.makedirs(save_dir)\n",
    "model.save('../model_results_y/fixed_model.h5')  "
   ]
  },
  {
   "cell_type": "markdown",
   "metadata": {},
   "source": [
    "## Heatmap / Gradcam"
   ]
  },
  {
   "cell_type": "code",
   "execution_count": null,
   "metadata": {},
   "outputs": [],
   "source": [
    "new_X_test = X_test[:, 0:185, :, :]\n",
    "new_X_test.shape"
   ]
  },
  {
   "cell_type": "code",
   "execution_count": null,
   "metadata": {},
   "outputs": [],
   "source": [
    "i = np.argmax(pred_test)\n",
    "print('index ' + str(i));\n",
    "heat_map, superimposed_img = show_heatmap(model_augmented, new_X_test[i], y_test[i], pred_test[i])"
   ]
  },
  {
   "cell_type": "code",
   "execution_count": null,
   "metadata": {},
   "outputs": [],
   "source": [
    "i = np.argmin(pred_test)\n",
    "print('index ' + str(i));\n",
    "heat_map, superimposed_img = show_heatmap(model_augmented, new_X_test[i], y_test[i], pred_test[i])"
   ]
  },
  {
   "cell_type": "code",
   "execution_count": null,
   "metadata": {},
   "outputs": [],
   "source": [
    "for i in np.where(y_test == 1)[0]:\n",
    "    print('index ' + str(i));\n",
    "    heat_map, superimposed_img = show_heatmap(model_augmented, new_X_test[i], y_test[i], pred_test[i])"
   ]
  },
  {
   "cell_type": "code",
   "execution_count": null,
   "metadata": {},
   "outputs": [],
   "source": [
    "for i in np.where(y_test == 0)[0]:\n",
    "    print('index ' + str(i));\n",
    "    heat_map, superimposed_img = show_heatmap(model_augmented, new_X_test[i], y_test[i], pred_test[i])"
   ]
  }
 ],
 "metadata": {
  "kernelspec": {
   "display_name": "Python 3",
   "language": "python",
   "name": "python3"
  },
  "language_info": {
   "codemirror_mode": {
    "name": "ipython",
    "version": 3
   },
   "file_extension": ".py",
   "mimetype": "text/x-python",
   "name": "python",
   "nbconvert_exporter": "python",
   "pygments_lexer": "ipython3",
   "version": "3.8.8"
  }
 },
 "nbformat": 4,
 "nbformat_minor": 2
}
